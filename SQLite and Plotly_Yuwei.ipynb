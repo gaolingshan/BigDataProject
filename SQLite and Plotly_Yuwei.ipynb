{
 "cells": [
  {
   "cell_type": "code",
   "execution_count": 1,
   "metadata": {
    "collapsed": false,
    "deletable": true,
    "editable": true
   },
   "outputs": [],
   "source": [
    "import plotly.tools as tls\n",
    "tls.set_credentials_file(username='YuweiTu', api_key='KXrlSB9iz8kutUHXd4gp')"
   ]
  },
  {
   "cell_type": "code",
   "execution_count": 70,
   "metadata": {
    "collapsed": true,
    "deletable": true,
    "editable": true
   },
   "outputs": [],
   "source": [
    "import pandas as pd\n",
    "from sqlalchemy import create_engine # database connection\n",
    "import datetime as dt\n",
    "from IPython.display import display\n",
    "\n",
    "import plotly.plotly as py\n",
    "import plotly.graph_objs as go# interactive graphing\n",
    "from plotly.graph_objs import Bar, Scatter, Marker, Layout "
   ]
  },
  {
   "cell_type": "code",
   "execution_count": 3,
   "metadata": {
    "collapsed": true,
    "deletable": true,
    "editable": true
   },
   "outputs": [],
   "source": [
    "crime_data = create_engine('sqlite:///crime_data.db')"
   ]
  },
  {
   "cell_type": "code",
   "execution_count": 4,
   "metadata": {
    "collapsed": false,
    "deletable": true,
    "editable": true
   },
   "outputs": [
    {
     "name": "stderr",
     "output_type": "stream",
     "text": [
      "/Users/yuweitu/anaconda/envs/py35/lib/python3.5/site-packages/IPython/core/interactiveshell.py:2717: DtypeWarning:\n",
      "\n",
      "Columns (17) have mixed types. Specify dtype option on import or set low_memory=False.\n",
      "\n"
     ]
    }
   ],
   "source": [
    "df = pd.read_csv('NYPD_Complaint_Data_Historic.csv')"
   ]
  },
  {
   "cell_type": "code",
   "execution_count": 5,
   "metadata": {
    "collapsed": false,
    "deletable": true,
    "editable": true
   },
   "outputs": [
    {
     "data": {
      "text/plain": [
       "(5101231, 24)"
      ]
     },
     "execution_count": 5,
     "metadata": {},
     "output_type": "execute_result"
    }
   ],
   "source": [
    "df.shape"
   ]
  },
  {
   "cell_type": "code",
   "execution_count": 6,
   "metadata": {
    "collapsed": false,
    "deletable": true,
    "editable": true
   },
   "outputs": [
    {
     "name": "stdout",
     "output_type": "stream",
     "text": [
      "0 seconds: completed 20000 rows\n",
      "2 seconds: completed 40000 rows\n",
      "3 seconds: completed 60000 rows\n",
      "4 seconds: completed 80000 rows\n",
      "5 seconds: completed 100000 rows\n",
      "6 seconds: completed 120000 rows\n",
      "7 seconds: completed 140000 rows\n",
      "8 seconds: completed 160000 rows\n",
      "9 seconds: completed 180000 rows\n",
      "10 seconds: completed 200000 rows\n",
      "11 seconds: completed 220000 rows\n",
      "13 seconds: completed 240000 rows\n",
      "14 seconds: completed 260000 rows\n",
      "15 seconds: completed 280000 rows\n",
      "16 seconds: completed 300000 rows\n",
      "17 seconds: completed 320000 rows\n",
      "18 seconds: completed 340000 rows\n",
      "19 seconds: completed 360000 rows\n",
      "20 seconds: completed 380000 rows\n",
      "21 seconds: completed 400000 rows\n",
      "22 seconds: completed 420000 rows\n",
      "24 seconds: completed 440000 rows\n",
      "25 seconds: completed 460000 rows\n",
      "26 seconds: completed 480000 rows\n",
      "27 seconds: completed 500000 rows\n",
      "28 seconds: completed 520000 rows\n",
      "29 seconds: completed 540000 rows\n",
      "30 seconds: completed 560000 rows\n",
      "31 seconds: completed 580000 rows\n",
      "32 seconds: completed 600000 rows\n",
      "34 seconds: completed 620000 rows\n",
      "35 seconds: completed 640000 rows\n",
      "36 seconds: completed 660000 rows\n",
      "37 seconds: completed 680000 rows\n",
      "38 seconds: completed 700000 rows\n",
      "39 seconds: completed 720000 rows\n",
      "40 seconds: completed 740000 rows\n",
      "41 seconds: completed 760000 rows\n",
      "42 seconds: completed 780000 rows\n",
      "43 seconds: completed 800000 rows\n",
      "45 seconds: completed 820000 rows\n",
      "46 seconds: completed 840000 rows\n",
      "47 seconds: completed 860000 rows\n",
      "48 seconds: completed 880000 rows\n",
      "49 seconds: completed 900000 rows\n",
      "50 seconds: completed 920000 rows\n",
      "51 seconds: completed 940000 rows\n",
      "52 seconds: completed 960000 rows\n",
      "53 seconds: completed 980000 rows\n",
      "54 seconds: completed 1000000 rows\n",
      "55 seconds: completed 1020000 rows\n",
      "57 seconds: completed 1040000 rows\n",
      "58 seconds: completed 1060000 rows\n",
      "59 seconds: completed 1080000 rows\n",
      "60 seconds: completed 1100000 rows\n",
      "61 seconds: completed 1120000 rows\n",
      "62 seconds: completed 1140000 rows\n",
      "64 seconds: completed 1160000 rows\n",
      "65 seconds: completed 1180000 rows\n",
      "66 seconds: completed 1200000 rows\n",
      "67 seconds: completed 1220000 rows\n",
      "68 seconds: completed 1240000 rows\n",
      "69 seconds: completed 1260000 rows\n",
      "70 seconds: completed 1280000 rows\n",
      "71 seconds: completed 1300000 rows\n",
      "72 seconds: completed 1320000 rows\n",
      "73 seconds: completed 1340000 rows\n",
      "74 seconds: completed 1360000 rows\n",
      "76 seconds: completed 1380000 rows\n",
      "77 seconds: completed 1400000 rows\n",
      "78 seconds: completed 1420000 rows\n",
      "79 seconds: completed 1440000 rows\n",
      "80 seconds: completed 1460000 rows\n",
      "81 seconds: completed 1480000 rows\n",
      "82 seconds: completed 1500000 rows\n",
      "83 seconds: completed 1520000 rows\n",
      "84 seconds: completed 1540000 rows\n",
      "85 seconds: completed 1560000 rows\n",
      "87 seconds: completed 1580000 rows\n",
      "88 seconds: completed 1600000 rows\n",
      "89 seconds: completed 1620000 rows\n",
      "90 seconds: completed 1640000 rows\n",
      "91 seconds: completed 1660000 rows\n",
      "93 seconds: completed 1680000 rows\n",
      "94 seconds: completed 1700000 rows\n",
      "95 seconds: completed 1720000 rows\n",
      "96 seconds: completed 1740000 rows\n",
      "97 seconds: completed 1760000 rows\n",
      "98 seconds: completed 1780000 rows\n",
      "100 seconds: completed 1800000 rows\n",
      "101 seconds: completed 1820000 rows\n",
      "102 seconds: completed 1840000 rows\n",
      "104 seconds: completed 1860000 rows\n",
      "106 seconds: completed 1880000 rows\n",
      "107 seconds: completed 1900000 rows\n",
      "108 seconds: completed 1920000 rows\n",
      "110 seconds: completed 1940000 rows\n",
      "111 seconds: completed 1960000 rows\n",
      "112 seconds: completed 1980000 rows\n",
      "114 seconds: completed 2000000 rows\n",
      "115 seconds: completed 2020000 rows\n",
      "116 seconds: completed 2040000 rows\n",
      "117 seconds: completed 2060000 rows\n",
      "118 seconds: completed 2080000 rows\n",
      "119 seconds: completed 2100000 rows\n",
      "120 seconds: completed 2120000 rows\n",
      "121 seconds: completed 2140000 rows\n",
      "122 seconds: completed 2160000 rows\n",
      "123 seconds: completed 2180000 rows\n",
      "124 seconds: completed 2200000 rows\n",
      "126 seconds: completed 2220000 rows\n",
      "127 seconds: completed 2240000 rows\n",
      "128 seconds: completed 2260000 rows\n",
      "129 seconds: completed 2280000 rows\n",
      "130 seconds: completed 2300000 rows\n",
      "131 seconds: completed 2320000 rows\n",
      "132 seconds: completed 2340000 rows\n",
      "133 seconds: completed 2360000 rows\n",
      "134 seconds: completed 2380000 rows\n",
      "135 seconds: completed 2400000 rows\n",
      "136 seconds: completed 2420000 rows\n",
      "137 seconds: completed 2440000 rows\n",
      "139 seconds: completed 2460000 rows\n",
      "140 seconds: completed 2480000 rows\n",
      "141 seconds: completed 2500000 rows\n",
      "142 seconds: completed 2520000 rows\n",
      "143 seconds: completed 2540000 rows\n",
      "144 seconds: completed 2560000 rows\n",
      "145 seconds: completed 2580000 rows\n",
      "147 seconds: completed 2600000 rows\n",
      "148 seconds: completed 2620000 rows\n",
      "149 seconds: completed 2640000 rows\n",
      "150 seconds: completed 2660000 rows\n",
      "152 seconds: completed 2680000 rows\n",
      "153 seconds: completed 2700000 rows\n",
      "155 seconds: completed 2720000 rows\n",
      "156 seconds: completed 2740000 rows\n",
      "158 seconds: completed 2760000 rows\n",
      "159 seconds: completed 2780000 rows\n",
      "160 seconds: completed 2800000 rows\n",
      "161 seconds: completed 2820000 rows\n",
      "162 seconds: completed 2840000 rows\n",
      "163 seconds: completed 2860000 rows\n",
      "164 seconds: completed 2880000 rows\n",
      "166 seconds: completed 2900000 rows\n",
      "167 seconds: completed 2920000 rows\n",
      "168 seconds: completed 2940000 rows\n",
      "169 seconds: completed 2960000 rows\n",
      "170 seconds: completed 2980000 rows\n",
      "172 seconds: completed 3000000 rows\n",
      "173 seconds: completed 3020000 rows\n",
      "174 seconds: completed 3040000 rows\n",
      "175 seconds: completed 3060000 rows\n",
      "177 seconds: completed 3080000 rows\n",
      "178 seconds: completed 3100000 rows\n",
      "179 seconds: completed 3120000 rows\n",
      "180 seconds: completed 3140000 rows\n",
      "181 seconds: completed 3160000 rows\n",
      "182 seconds: completed 3180000 rows\n",
      "183 seconds: completed 3200000 rows\n",
      "184 seconds: completed 3220000 rows\n",
      "185 seconds: completed 3240000 rows\n",
      "186 seconds: completed 3260000 rows\n",
      "187 seconds: completed 3280000 rows\n",
      "188 seconds: completed 3300000 rows\n",
      "190 seconds: completed 3320000 rows\n",
      "191 seconds: completed 3340000 rows\n",
      "192 seconds: completed 3360000 rows\n",
      "194 seconds: completed 3380000 rows\n",
      "195 seconds: completed 3400000 rows\n",
      "197 seconds: completed 3420000 rows\n",
      "198 seconds: completed 3440000 rows\n",
      "199 seconds: completed 3460000 rows\n",
      "200 seconds: completed 3480000 rows\n",
      "201 seconds: completed 3500000 rows\n",
      "202 seconds: completed 3520000 rows\n",
      "203 seconds: completed 3540000 rows\n",
      "205 seconds: completed 3560000 rows\n",
      "206 seconds: completed 3580000 rows\n",
      "207 seconds: completed 3600000 rows\n",
      "209 seconds: completed 3620000 rows\n",
      "210 seconds: completed 3640000 rows\n",
      "211 seconds: completed 3660000 rows\n",
      "212 seconds: completed 3680000 rows\n",
      "214 seconds: completed 3700000 rows\n",
      "216 seconds: completed 3720000 rows\n",
      "217 seconds: completed 3740000 rows\n",
      "219 seconds: completed 3760000 rows\n",
      "220 seconds: completed 3780000 rows\n",
      "221 seconds: completed 3800000 rows\n",
      "222 seconds: completed 3820000 rows\n",
      "223 seconds: completed 3840000 rows\n",
      "224 seconds: completed 3860000 rows\n",
      "226 seconds: completed 3880000 rows\n",
      "227 seconds: completed 3900000 rows\n",
      "228 seconds: completed 3920000 rows\n",
      "229 seconds: completed 3940000 rows\n",
      "230 seconds: completed 3960000 rows\n",
      "231 seconds: completed 3980000 rows\n",
      "232 seconds: completed 4000000 rows\n",
      "234 seconds: completed 4020000 rows\n",
      "235 seconds: completed 4040000 rows\n",
      "236 seconds: completed 4060000 rows\n",
      "237 seconds: completed 4080000 rows\n",
      "238 seconds: completed 4100000 rows\n",
      "239 seconds: completed 4120000 rows\n",
      "240 seconds: completed 4140000 rows\n",
      "242 seconds: completed 4160000 rows\n",
      "243 seconds: completed 4180000 rows\n",
      "244 seconds: completed 4200000 rows\n",
      "245 seconds: completed 4220000 rows\n",
      "246 seconds: completed 4240000 rows\n",
      "247 seconds: completed 4260000 rows\n",
      "248 seconds: completed 4280000 rows\n",
      "249 seconds: completed 4300000 rows\n",
      "250 seconds: completed 4320000 rows\n",
      "251 seconds: completed 4340000 rows\n",
      "252 seconds: completed 4360000 rows\n",
      "254 seconds: completed 4380000 rows\n",
      "255 seconds: completed 4400000 rows\n",
      "256 seconds: completed 4420000 rows\n",
      "257 seconds: completed 4440000 rows\n",
      "258 seconds: completed 4460000 rows\n",
      "259 seconds: completed 4480000 rows\n",
      "260 seconds: completed 4500000 rows\n",
      "261 seconds: completed 4520000 rows\n",
      "262 seconds: completed 4540000 rows\n",
      "263 seconds: completed 4560000 rows\n",
      "265 seconds: completed 4580000 rows\n",
      "266 seconds: completed 4600000 rows\n",
      "267 seconds: completed 4620000 rows\n",
      "268 seconds: completed 4640000 rows\n",
      "269 seconds: completed 4660000 rows\n",
      "270 seconds: completed 4680000 rows\n",
      "271 seconds: completed 4700000 rows\n",
      "272 seconds: completed 4720000 rows\n",
      "274 seconds: completed 4740000 rows\n",
      "275 seconds: completed 4760000 rows\n",
      "276 seconds: completed 4780000 rows\n",
      "277 seconds: completed 4800000 rows\n",
      "278 seconds: completed 4820000 rows\n",
      "280 seconds: completed 4840000 rows\n",
      "281 seconds: completed 4860000 rows\n",
      "282 seconds: completed 4880000 rows\n",
      "283 seconds: completed 4900000 rows\n",
      "284 seconds: completed 4920000 rows\n",
      "285 seconds: completed 4940000 rows\n",
      "286 seconds: completed 4960000 rows\n",
      "288 seconds: completed 4980000 rows\n",
      "289 seconds: completed 5000000 rows\n",
      "290 seconds: completed 5020000 rows\n",
      "291 seconds: completed 5040000 rows\n",
      "293 seconds: completed 5060000 rows\n",
      "294 seconds: completed 5080000 rows\n",
      "295 seconds: completed 5100000 rows\n",
      "296 seconds: completed 5120000 rows\n"
     ]
    }
   ],
   "source": [
    "start = dt.datetime.now()\n",
    "chunksize = 20000\n",
    "j = 0\n",
    "index_start = 1\n",
    "\n",
    "for df in pd.read_csv('NYPD_Complaint_Data_Historic.csv', chunksize=chunksize, iterator=True, encoding='utf-8'):\n",
    "    \n",
    "    df = df.rename(columns={c: c.replace(' ', '') for c in df.columns}) # Remove spaces from columns\n",
    "    df.index += index_start\n",
    "\n",
    "    j+=1\n",
    "    print('{} seconds: completed {} rows'.format((dt.datetime.now() - start).seconds, j*chunksize))\n",
    "\n",
    "    df.to_sql('data', crime_data, if_exists='append')\n",
    "    index_start = df.index[-1] + 1"
   ]
  },
  {
   "cell_type": "code",
   "execution_count": 7,
   "metadata": {
    "collapsed": false,
    "deletable": true,
    "editable": true
   },
   "outputs": [
    {
     "data": {
      "text/html": [
       "<div>\n",
       "<table border=\"1\" class=\"dataframe\">\n",
       "  <thead>\n",
       "    <tr style=\"text-align: right;\">\n",
       "      <th></th>\n",
       "      <th>index</th>\n",
       "      <th>CMPLNT_NUM</th>\n",
       "      <th>CMPLNT_FR_DT</th>\n",
       "      <th>CMPLNT_FR_TM</th>\n",
       "      <th>CMPLNT_TO_DT</th>\n",
       "      <th>CMPLNT_TO_TM</th>\n",
       "      <th>RPT_DT</th>\n",
       "      <th>KY_CD</th>\n",
       "      <th>OFNS_DESC</th>\n",
       "      <th>PD_CD</th>\n",
       "      <th>...</th>\n",
       "      <th>ADDR_PCT_CD</th>\n",
       "      <th>LOC_OF_OCCUR_DESC</th>\n",
       "      <th>PREM_TYP_DESC</th>\n",
       "      <th>PARKS_NM</th>\n",
       "      <th>HADEVELOPT</th>\n",
       "      <th>X_COORD_CD</th>\n",
       "      <th>Y_COORD_CD</th>\n",
       "      <th>Latitude</th>\n",
       "      <th>Longitude</th>\n",
       "      <th>Lat_Lon</th>\n",
       "    </tr>\n",
       "  </thead>\n",
       "  <tbody>\n",
       "    <tr>\n",
       "      <th>0</th>\n",
       "      <td>1</td>\n",
       "      <td>101109527</td>\n",
       "      <td>12/31/2015</td>\n",
       "      <td>23:45:00</td>\n",
       "      <td>None</td>\n",
       "      <td>None</td>\n",
       "      <td>12/31/2015</td>\n",
       "      <td>113</td>\n",
       "      <td>FORGERY</td>\n",
       "      <td>729.0</td>\n",
       "      <td>...</td>\n",
       "      <td>44</td>\n",
       "      <td>INSIDE</td>\n",
       "      <td>BAR/NIGHT CLUB</td>\n",
       "      <td>None</td>\n",
       "      <td>None</td>\n",
       "      <td>1007314.0</td>\n",
       "      <td>241257.0</td>\n",
       "      <td>40.828848</td>\n",
       "      <td>-73.916661</td>\n",
       "      <td>(40.828848333, -73.916661142)</td>\n",
       "    </tr>\n",
       "    <tr>\n",
       "      <th>1</th>\n",
       "      <td>2</td>\n",
       "      <td>153401121</td>\n",
       "      <td>12/31/2015</td>\n",
       "      <td>23:36:00</td>\n",
       "      <td>None</td>\n",
       "      <td>None</td>\n",
       "      <td>12/31/2015</td>\n",
       "      <td>101</td>\n",
       "      <td>MURDER &amp; NON-NEGL. MANSLAUGHTER</td>\n",
       "      <td>NaN</td>\n",
       "      <td>...</td>\n",
       "      <td>103</td>\n",
       "      <td>OUTSIDE</td>\n",
       "      <td>None</td>\n",
       "      <td>None</td>\n",
       "      <td>None</td>\n",
       "      <td>1043991.0</td>\n",
       "      <td>193406.0</td>\n",
       "      <td>40.697338</td>\n",
       "      <td>-73.784557</td>\n",
       "      <td>(40.697338138, -73.784556739)</td>\n",
       "    </tr>\n",
       "    <tr>\n",
       "      <th>2</th>\n",
       "      <td>3</td>\n",
       "      <td>569369778</td>\n",
       "      <td>12/31/2015</td>\n",
       "      <td>23:30:00</td>\n",
       "      <td>None</td>\n",
       "      <td>None</td>\n",
       "      <td>12/31/2015</td>\n",
       "      <td>117</td>\n",
       "      <td>DANGEROUS DRUGS</td>\n",
       "      <td>503.0</td>\n",
       "      <td>...</td>\n",
       "      <td>28</td>\n",
       "      <td>None</td>\n",
       "      <td>OTHER</td>\n",
       "      <td>None</td>\n",
       "      <td>None</td>\n",
       "      <td>999463.0</td>\n",
       "      <td>231690.0</td>\n",
       "      <td>40.802607</td>\n",
       "      <td>-73.945052</td>\n",
       "      <td>(40.802606608, -73.945051911)</td>\n",
       "    </tr>\n",
       "    <tr>\n",
       "      <th>3</th>\n",
       "      <td>4</td>\n",
       "      <td>968417082</td>\n",
       "      <td>12/31/2015</td>\n",
       "      <td>23:30:00</td>\n",
       "      <td>None</td>\n",
       "      <td>None</td>\n",
       "      <td>12/31/2015</td>\n",
       "      <td>344</td>\n",
       "      <td>ASSAULT 3 &amp; RELATED OFFENSES</td>\n",
       "      <td>101.0</td>\n",
       "      <td>...</td>\n",
       "      <td>105</td>\n",
       "      <td>INSIDE</td>\n",
       "      <td>RESIDENCE-HOUSE</td>\n",
       "      <td>None</td>\n",
       "      <td>None</td>\n",
       "      <td>1060183.0</td>\n",
       "      <td>177862.0</td>\n",
       "      <td>40.654549</td>\n",
       "      <td>-73.726339</td>\n",
       "      <td>(40.654549444, -73.726338791)</td>\n",
       "    </tr>\n",
       "    <tr>\n",
       "      <th>4</th>\n",
       "      <td>5</td>\n",
       "      <td>641637920</td>\n",
       "      <td>12/31/2015</td>\n",
       "      <td>23:25:00</td>\n",
       "      <td>12/31/2015</td>\n",
       "      <td>23:30:00</td>\n",
       "      <td>12/31/2015</td>\n",
       "      <td>344</td>\n",
       "      <td>ASSAULT 3 &amp; RELATED OFFENSES</td>\n",
       "      <td>101.0</td>\n",
       "      <td>...</td>\n",
       "      <td>13</td>\n",
       "      <td>FRONT OF</td>\n",
       "      <td>OTHER</td>\n",
       "      <td>None</td>\n",
       "      <td>None</td>\n",
       "      <td>987606.0</td>\n",
       "      <td>208148.0</td>\n",
       "      <td>40.738002</td>\n",
       "      <td>-73.987891</td>\n",
       "      <td>(40.7380024, -73.98789129)</td>\n",
       "    </tr>\n",
       "  </tbody>\n",
       "</table>\n",
       "<p>5 rows × 25 columns</p>\n",
       "</div>"
      ],
      "text/plain": [
       "   index  CMPLNT_NUM CMPLNT_FR_DT CMPLNT_FR_TM CMPLNT_TO_DT CMPLNT_TO_TM  \\\n",
       "0      1   101109527   12/31/2015     23:45:00         None         None   \n",
       "1      2   153401121   12/31/2015     23:36:00         None         None   \n",
       "2      3   569369778   12/31/2015     23:30:00         None         None   \n",
       "3      4   968417082   12/31/2015     23:30:00         None         None   \n",
       "4      5   641637920   12/31/2015     23:25:00   12/31/2015     23:30:00   \n",
       "\n",
       "       RPT_DT  KY_CD                        OFNS_DESC  PD_CD  \\\n",
       "0  12/31/2015    113                          FORGERY  729.0   \n",
       "1  12/31/2015    101  MURDER & NON-NEGL. MANSLAUGHTER    NaN   \n",
       "2  12/31/2015    117                  DANGEROUS DRUGS  503.0   \n",
       "3  12/31/2015    344     ASSAULT 3 & RELATED OFFENSES  101.0   \n",
       "4  12/31/2015    344     ASSAULT 3 & RELATED OFFENSES  101.0   \n",
       "\n",
       "               ...               ADDR_PCT_CD LOC_OF_OCCUR_DESC  \\\n",
       "0              ...                        44            INSIDE   \n",
       "1              ...                       103           OUTSIDE   \n",
       "2              ...                        28              None   \n",
       "3              ...                       105            INSIDE   \n",
       "4              ...                        13          FRONT OF   \n",
       "\n",
       "     PREM_TYP_DESC PARKS_NM HADEVELOPT  X_COORD_CD Y_COORD_CD   Latitude  \\\n",
       "0   BAR/NIGHT CLUB     None       None   1007314.0   241257.0  40.828848   \n",
       "1             None     None       None   1043991.0   193406.0  40.697338   \n",
       "2            OTHER     None       None    999463.0   231690.0  40.802607   \n",
       "3  RESIDENCE-HOUSE     None       None   1060183.0   177862.0  40.654549   \n",
       "4            OTHER     None       None    987606.0   208148.0  40.738002   \n",
       "\n",
       "   Longitude                        Lat_Lon  \n",
       "0 -73.916661  (40.828848333, -73.916661142)  \n",
       "1 -73.784557  (40.697338138, -73.784556739)  \n",
       "2 -73.945052  (40.802606608, -73.945051911)  \n",
       "3 -73.726339  (40.654549444, -73.726338791)  \n",
       "4 -73.987891     (40.7380024, -73.98789129)  \n",
       "\n",
       "[5 rows x 25 columns]"
      ]
     },
     "execution_count": 7,
     "metadata": {},
     "output_type": "execute_result"
    }
   ],
   "source": [
    "#preview the table\n",
    "df = pd.read_sql_query('SELECT * FROM data LIMIT 5', crime_data)\n",
    "df.head()"
   ]
  },
  {
   "cell_type": "code",
   "execution_count": 14,
   "metadata": {
    "collapsed": false,
    "deletable": true,
    "editable": true
   },
   "outputs": [],
   "source": [
    "df_1 = pd.read_sql_query('SELECT KY_CD, COUNT(*) as `num_crimes`'\n",
    "                       'FROM data '\n",
    "                       'GROUP BY KY_CD '\n",
    "                       'ORDER BY -num_crimes', crime_data)"
   ]
  },
  {
   "cell_type": "code",
   "execution_count": 15,
   "metadata": {
    "collapsed": true,
    "deletable": true,
    "editable": true
   },
   "outputs": [],
   "source": [
    "import matplotlib.pyplot as plt"
   ]
  },
  {
   "cell_type": "code",
   "execution_count": 16,
   "metadata": {
    "collapsed": false,
    "deletable": true,
    "editable": true
   },
   "outputs": [
    {
     "data": {
      "image/png": "[encoded data removed]",
      "text/plain": [
       "<matplotlib.figure.Figure at 0x1585e5438>"
      ]
     },
     "metadata": {},
     "output_type": "display_data"
    }
   ],
   "source": [
    "plt.bar(df_1.KY_CD, df_1.num_crimes, align='center', alpha=0.5)\n",
    "plt.show()"
   ]
  },
  {
   "cell_type": "code",
   "execution_count": 21,
   "metadata": {
    "collapsed": false,
    "deletable": true,
    "editable": true
   },
   "outputs": [
    {
     "data": {
      "text/html": [
       "<iframe id=\"igraph\" scrolling=\"no\" style=\"border:none;\" seamless=\"seamless\" src=\"https://plot.ly/~YuweiTu/2.embed\" height=\"525px\" width=\"100%\"></iframe>"
      ],
      "text/plain": [
       "<plotly.tools.PlotlyDisplay object>"
      ]
     },
     "execution_count": 21,
     "metadata": {},
     "output_type": "execute_result"
    }
   ],
   "source": [
    "py.iplot([Bar(x=df_1.KY_CD, y=df_1.num_crimes)], filename='Most Common Crimes by KY_CD')"
   ]
  },
  {
   "cell_type": "code",
   "execution_count": 53,
   "metadata": {
    "collapsed": false,
    "deletable": true,
    "editable": true
   },
   "outputs": [],
   "source": [
    "df_2 = pd.read_sql_query('SELECT KY_CD, OFNS_DESC,COUNT(*) as `num_crimes`'\n",
    "                       'FROM data '\n",
    "                       'GROUP BY KY_CD '\n",
    "                       'ORDER BY -num_crimes '\n",
    "                        'LIMIT 10 ', crime_data)"
   ]
  },
  {
   "cell_type": "code",
   "execution_count": 54,
   "metadata": {
    "collapsed": false,
    "deletable": true,
    "editable": true
   },
   "outputs": [],
   "source": [
    "df_2['KY_CD'] = df_2['KY_CD'].astype('object')"
   ]
  },
  {
   "cell_type": "code",
   "execution_count": 55,
   "metadata": {
    "collapsed": false,
    "deletable": true,
    "editable": true
   },
   "outputs": [
    {
     "data": {
      "text/html": [
       "<div>\n",
       "<table border=\"1\" class=\"dataframe\">\n",
       "  <thead>\n",
       "    <tr style=\"text-align: right;\">\n",
       "      <th></th>\n",
       "      <th>KY_CD</th>\n",
       "      <th>OFNS_DESC</th>\n",
       "      <th>num_crimes</th>\n",
       "    </tr>\n",
       "  </thead>\n",
       "  <tbody>\n",
       "    <tr>\n",
       "      <th>0</th>\n",
       "      <td>341</td>\n",
       "      <td>PETIT LARCENY</td>\n",
       "      <td>2467524</td>\n",
       "    </tr>\n",
       "    <tr>\n",
       "      <th>1</th>\n",
       "      <td>578</td>\n",
       "      <td>HARRASSMENT 2</td>\n",
       "      <td>1812423</td>\n",
       "    </tr>\n",
       "    <tr>\n",
       "      <th>2</th>\n",
       "      <td>344</td>\n",
       "      <td>ASSAULT 3 &amp; RELATED OFFENSES</td>\n",
       "      <td>1564833</td>\n",
       "    </tr>\n",
       "    <tr>\n",
       "      <th>3</th>\n",
       "      <td>351</td>\n",
       "      <td>CRIMINAL MISCHIEF &amp; RELATED OF</td>\n",
       "      <td>1300104</td>\n",
       "    </tr>\n",
       "    <tr>\n",
       "      <th>4</th>\n",
       "      <td>109</td>\n",
       "      <td>GRAND LARCENY</td>\n",
       "      <td>1287615</td>\n",
       "    </tr>\n",
       "    <tr>\n",
       "      <th>5</th>\n",
       "      <td>235</td>\n",
       "      <td>DANGEROUS DRUGS</td>\n",
       "      <td>857403</td>\n",
       "    </tr>\n",
       "    <tr>\n",
       "      <th>6</th>\n",
       "      <td>361</td>\n",
       "      <td>OFF. AGNST PUB ORD SENSBLTY &amp;</td>\n",
       "      <td>849306</td>\n",
       "    </tr>\n",
       "    <tr>\n",
       "      <th>7</th>\n",
       "      <td>105</td>\n",
       "      <td>ROBBERY</td>\n",
       "      <td>596322</td>\n",
       "    </tr>\n",
       "    <tr>\n",
       "      <th>8</th>\n",
       "      <td>107</td>\n",
       "      <td>BURGLARY</td>\n",
       "      <td>574221</td>\n",
       "    </tr>\n",
       "    <tr>\n",
       "      <th>9</th>\n",
       "      <td>106</td>\n",
       "      <td>FELONY ASSAULT</td>\n",
       "      <td>552372</td>\n",
       "    </tr>\n",
       "  </tbody>\n",
       "</table>\n",
       "</div>"
      ],
      "text/plain": [
       "  KY_CD                       OFNS_DESC  num_crimes\n",
       "0   341                   PETIT LARCENY     2467524\n",
       "1   578                   HARRASSMENT 2     1812423\n",
       "2   344    ASSAULT 3 & RELATED OFFENSES     1564833\n",
       "3   351  CRIMINAL MISCHIEF & RELATED OF     1300104\n",
       "4   109                   GRAND LARCENY     1287615\n",
       "5   235                 DANGEROUS DRUGS      857403\n",
       "6   361   OFF. AGNST PUB ORD SENSBLTY &      849306\n",
       "7   105                         ROBBERY      596322\n",
       "8   107                        BURGLARY      574221\n",
       "9   106                  FELONY ASSAULT      552372"
      ]
     },
     "execution_count": 55,
     "metadata": {},
     "output_type": "execute_result"
    }
   ],
   "source": [
    "df_2"
   ]
  },
  {
   "cell_type": "code",
   "execution_count": 56,
   "metadata": {
    "collapsed": false,
    "deletable": true,
    "editable": true
   },
   "outputs": [
    {
     "data": {
      "text/html": [
       "<iframe id=\"igraph\" scrolling=\"no\" style=\"border:none;\" seamless=\"seamless\" src=\"https://plot.ly/~YuweiTu/8.embed\" height=\"525px\" width=\"100%\"></iframe>"
      ],
      "text/plain": [
       "<plotly.tools.PlotlyDisplay object>"
      ]
     },
     "execution_count": 56,
     "metadata": {},
     "output_type": "execute_result"
    }
   ],
   "source": [
    "py.iplot([Bar(x=df_2.OFNS_DESC, y=df_2.num_crimes)], filename='Top 10 Offense types with KY')"
   ]
  },
  {
   "cell_type": "code",
   "execution_count": 58,
   "metadata": {
    "collapsed": true,
    "deletable": true,
    "editable": true
   },
   "outputs": [],
   "source": [
    "df_3 = pd.read_sql_query('SELECT PD_CD, COUNT(*) as `num_crimes`'\n",
    "                       'FROM data '\n",
    "                       'GROUP BY PD_CD '\n",
    "                       'ORDER BY -num_crimes', crime_data)"
   ]
  },
  {
   "cell_type": "code",
   "execution_count": 59,
   "metadata": {
    "collapsed": false,
    "deletable": true,
    "editable": true
   },
   "outputs": [
    {
     "data": {
      "text/html": [
       "<iframe id=\"igraph\" scrolling=\"no\" style=\"border:none;\" seamless=\"seamless\" src=\"https://plot.ly/~YuweiTu/10.embed\" height=\"525px\" width=\"100%\"></iframe>"
      ],
      "text/plain": [
       "<plotly.tools.PlotlyDisplay object>"
      ]
     },
     "execution_count": 59,
     "metadata": {},
     "output_type": "execute_result"
    }
   ],
   "source": [
    "py.iplot([Bar(x=df_3.PD_CD, y=df_3.num_crimes)], filename='Most Common Crimes by PD_CD')"
   ]
  },
  {
   "cell_type": "code",
   "execution_count": 61,
   "metadata": {
    "collapsed": true,
    "deletable": true,
    "editable": true
   },
   "outputs": [],
   "source": [
    "df_4= pd.read_sql_query('SELECT PD_CD, PD_DESC,COUNT(*) as `num_crimes`'\n",
    "                       'FROM data '\n",
    "                       'GROUP BY PD_CD '\n",
    "                       'ORDER BY -num_crimes '\n",
    "                        'LIMIT 10 ', crime_data)"
   ]
  },
  {
   "cell_type": "code",
   "execution_count": 63,
   "metadata": {
    "collapsed": false,
    "deletable": true,
    "editable": true
   },
   "outputs": [
    {
     "data": {
      "text/html": [
       "<div>\n",
       "<table border=\"1\" class=\"dataframe\">\n",
       "  <thead>\n",
       "    <tr style=\"text-align: right;\">\n",
       "      <th></th>\n",
       "      <th>PD_CD</th>\n",
       "      <th>PD_DESC</th>\n",
       "      <th>num_crimes</th>\n",
       "    </tr>\n",
       "  </thead>\n",
       "  <tbody>\n",
       "    <tr>\n",
       "      <th>0</th>\n",
       "      <td>101.0</td>\n",
       "      <td>ASSAULT 3</td>\n",
       "      <td>1314390</td>\n",
       "    </tr>\n",
       "    <tr>\n",
       "      <th>1</th>\n",
       "      <td>638.0</td>\n",
       "      <td>HARASSMENT,SUBD 3,4,5</td>\n",
       "      <td>1104357</td>\n",
       "    </tr>\n",
       "    <tr>\n",
       "      <th>2</th>\n",
       "      <td>639.0</td>\n",
       "      <td>AGGRAVATED HARASSMENT 2</td>\n",
       "      <td>843834</td>\n",
       "    </tr>\n",
       "    <tr>\n",
       "      <th>3</th>\n",
       "      <td>637.0</td>\n",
       "      <td>HARASSMENT,SUBD 1,CIVILIAN</td>\n",
       "      <td>707877</td>\n",
       "    </tr>\n",
       "    <tr>\n",
       "      <th>4</th>\n",
       "      <td>338.0</td>\n",
       "      <td>LARCENY,PETIT FROM BUILDING,UN</td>\n",
       "      <td>665202</td>\n",
       "    </tr>\n",
       "    <tr>\n",
       "      <th>5</th>\n",
       "      <td>333.0</td>\n",
       "      <td>LARCENY,PETIT FROM STORE-SHOPL</td>\n",
       "      <td>646338</td>\n",
       "    </tr>\n",
       "    <tr>\n",
       "      <th>6</th>\n",
       "      <td>254.0</td>\n",
       "      <td>MISCHIEF, CRIMINAL 4, OF MOTOR</td>\n",
       "      <td>566421</td>\n",
       "    </tr>\n",
       "    <tr>\n",
       "      <th>7</th>\n",
       "      <td>321.0</td>\n",
       "      <td>LARCENY,PETIT FROM AUTO</td>\n",
       "      <td>534105</td>\n",
       "    </tr>\n",
       "    <tr>\n",
       "      <th>8</th>\n",
       "      <td>567.0</td>\n",
       "      <td>MARIJUANA, POSSESSION 4 &amp; 5</td>\n",
       "      <td>519132</td>\n",
       "    </tr>\n",
       "    <tr>\n",
       "      <th>9</th>\n",
       "      <td>109.0</td>\n",
       "      <td>ASSAULT 2,1,UNCLASSIFIED</td>\n",
       "      <td>462138</td>\n",
       "    </tr>\n",
       "  </tbody>\n",
       "</table>\n",
       "</div>"
      ],
      "text/plain": [
       "   PD_CD                         PD_DESC  num_crimes\n",
       "0  101.0                       ASSAULT 3     1314390\n",
       "1  638.0           HARASSMENT,SUBD 3,4,5     1104357\n",
       "2  639.0         AGGRAVATED HARASSMENT 2      843834\n",
       "3  637.0      HARASSMENT,SUBD 1,CIVILIAN      707877\n",
       "4  338.0  LARCENY,PETIT FROM BUILDING,UN      665202\n",
       "5  333.0  LARCENY,PETIT FROM STORE-SHOPL      646338\n",
       "6  254.0  MISCHIEF, CRIMINAL 4, OF MOTOR      566421\n",
       "7  321.0         LARCENY,PETIT FROM AUTO      534105\n",
       "8  567.0     MARIJUANA, POSSESSION 4 & 5      519132\n",
       "9  109.0        ASSAULT 2,1,UNCLASSIFIED      462138"
      ]
     },
     "execution_count": 63,
     "metadata": {},
     "output_type": "execute_result"
    }
   ],
   "source": [
    "df_4"
   ]
  },
  {
   "cell_type": "code",
   "execution_count": 62,
   "metadata": {
    "collapsed": false,
    "deletable": true,
    "editable": true
   },
   "outputs": [
    {
     "data": {
      "text/html": [
       "<iframe id=\"igraph\" scrolling=\"no\" style=\"border:none;\" seamless=\"seamless\" src=\"https://plot.ly/~YuweiTu/12.embed\" height=\"525px\" width=\"100%\"></iframe>"
      ],
      "text/plain": [
       "<plotly.tools.PlotlyDisplay object>"
      ]
     },
     "execution_count": 62,
     "metadata": {},
     "output_type": "execute_result"
    }
   ],
   "source": [
    "py.iplot([Bar(x=df_4.PD_DESC, y=df_4.num_crimes)], filename='Top 10 Offense types with PD')"
   ]
  },
  {
   "cell_type": "code",
   "execution_count": 64,
   "metadata": {
    "collapsed": true,
    "deletable": true,
    "editable": true
   },
   "outputs": [],
   "source": [
    "df_5= pd.read_sql_query('SELECT CRM_ATPT_CPTD_CD,COUNT(*) as `num_crimes`'\n",
    "                       'FROM data '\n",
    "                       'GROUP BY CRM_ATPT_CPTD_CD '\n",
    "                       'ORDER BY -num_crimes ', crime_data)"
   ]
  },
  {
   "cell_type": "code",
   "execution_count": 72,
   "metadata": {
    "collapsed": false,
    "deletable": true,
    "editable": true
   },
   "outputs": [
    {
     "data": {
      "text/html": [
       "<iframe id=\"igraph\" scrolling=\"no\" style=\"border:none;\" seamless=\"seamless\" src=\"https://plot.ly/~YuweiTu/14.embed\" height=\"525px\" width=\"100%\"></iframe>"
      ],
      "text/plain": [
       "<plotly.tools.PlotlyDisplay object>"
      ]
     },
     "execution_count": 72,
     "metadata": {},
     "output_type": "execute_result"
    }
   ],
   "source": [
    "py.iplot([go.Pie(labels=df_5.CRM_ATPT_CPTD_CD, values=df_5.num_crimes)], filename='Most Common Crimes by CRM_ATPT_CPTD_CD')"
   ]
  },
  {
   "cell_type": "code",
   "execution_count": 77,
   "metadata": {
    "collapsed": false,
    "deletable": true,
    "editable": true
   },
   "outputs": [],
   "source": [
    "df_6 = pd.read_sql_query('SELECT KY_CD, OFNS_DESC,COUNT(*) as `num_crimes`'\n",
    "                       'FROM data '\n",
    "                       'WHERE  CRM_ATPT_CPTD_CD = \"ATTEMPTED\"'\n",
    "                        'GROUP BY KY_CD '\n",
    "                        'ORDER BY -num_crimes ', crime_data)"
   ]
  },
  {
   "cell_type": "code",
   "execution_count": 79,
   "metadata": {
    "collapsed": false,
    "deletable": true,
    "editable": true
   },
   "outputs": [
    {
     "data": {
      "text/html": [
       "<div>\n",
       "<table border=\"1\" class=\"dataframe\">\n",
       "  <thead>\n",
       "    <tr style=\"text-align: right;\">\n",
       "      <th></th>\n",
       "      <th>KY_CD</th>\n",
       "      <th>OFNS_DESC</th>\n",
       "      <th>num_crimes</th>\n",
       "    </tr>\n",
       "  </thead>\n",
       "  <tbody>\n",
       "    <tr>\n",
       "      <th>0</th>\n",
       "      <td>105</td>\n",
       "      <td>ROBBERY</td>\n",
       "      <td>65655</td>\n",
       "    </tr>\n",
       "    <tr>\n",
       "      <th>1</th>\n",
       "      <td>107</td>\n",
       "      <td>BURGLARY</td>\n",
       "      <td>40695</td>\n",
       "    </tr>\n",
       "    <tr>\n",
       "      <th>2</th>\n",
       "      <td>341</td>\n",
       "      <td>PETIT LARCENY</td>\n",
       "      <td>28863</td>\n",
       "    </tr>\n",
       "    <tr>\n",
       "      <th>3</th>\n",
       "      <td>106</td>\n",
       "      <td>FELONY ASSAULT</td>\n",
       "      <td>25788</td>\n",
       "    </tr>\n",
       "    <tr>\n",
       "      <th>4</th>\n",
       "      <td>109</td>\n",
       "      <td>GRAND LARCENY</td>\n",
       "      <td>22806</td>\n",
       "    </tr>\n",
       "    <tr>\n",
       "      <th>5</th>\n",
       "      <td>344</td>\n",
       "      <td>ASSAULT 3 &amp; RELATED OFFENSES</td>\n",
       "      <td>10107</td>\n",
       "    </tr>\n",
       "    <tr>\n",
       "      <th>6</th>\n",
       "      <td>110</td>\n",
       "      <td>GRAND LARCENY OF MOTOR VEHICLE</td>\n",
       "      <td>9882</td>\n",
       "    </tr>\n",
       "    <tr>\n",
       "      <th>7</th>\n",
       "      <td>351</td>\n",
       "      <td>CRIMINAL MISCHIEF &amp; RELATED OF</td>\n",
       "      <td>5193</td>\n",
       "    </tr>\n",
       "    <tr>\n",
       "      <th>8</th>\n",
       "      <td>578</td>\n",
       "      <td>HARRASSMENT 2</td>\n",
       "      <td>4989</td>\n",
       "    </tr>\n",
       "    <tr>\n",
       "      <th>9</th>\n",
       "      <td>235</td>\n",
       "      <td>DANGEROUS DRUGS</td>\n",
       "      <td>4860</td>\n",
       "    </tr>\n",
       "  </tbody>\n",
       "</table>\n",
       "</div>"
      ],
      "text/plain": [
       "   KY_CD                       OFNS_DESC  num_crimes\n",
       "0    105                         ROBBERY       65655\n",
       "1    107                        BURGLARY       40695\n",
       "2    341                   PETIT LARCENY       28863\n",
       "3    106                  FELONY ASSAULT       25788\n",
       "4    109                   GRAND LARCENY       22806\n",
       "5    344    ASSAULT 3 & RELATED OFFENSES       10107\n",
       "6    110  GRAND LARCENY OF MOTOR VEHICLE        9882\n",
       "7    351  CRIMINAL MISCHIEF & RELATED OF        5193\n",
       "8    578                   HARRASSMENT 2        4989\n",
       "9    235                 DANGEROUS DRUGS        4860"
      ]
     },
     "execution_count": 79,
     "metadata": {},
     "output_type": "execute_result"
    }
   ],
   "source": [
    "df_6[:10]"
   ]
  },
  {
   "cell_type": "code",
   "execution_count": 80,
   "metadata": {
    "collapsed": true,
    "deletable": true,
    "editable": true
   },
   "outputs": [],
   "source": [
    "df_7= pd.read_sql_query('SELECT LAW_CAT_CD,COUNT(*) as `num_crimes`'\n",
    "                       'FROM data '\n",
    "                       'GROUP BY LAW_CAT_CD '\n",
    "                       'ORDER BY -num_crimes ', crime_data)"
   ]
  },
  {
   "cell_type": "code",
   "execution_count": 83,
   "metadata": {
    "collapsed": false,
    "deletable": true,
    "editable": true
   },
   "outputs": [
    {
     "data": {
      "text/html": [
       "<iframe id=\"igraph\" scrolling=\"no\" style=\"border:none;\" seamless=\"seamless\" src=\"https://plot.ly/~YuweiTu/16.embed\" height=\"525px\" width=\"100%\"></iframe>"
      ],
      "text/plain": [
       "<plotly.tools.PlotlyDisplay object>"
      ]
     },
     "execution_count": 83,
     "metadata": {},
     "output_type": "execute_result"
    }
   ],
   "source": [
    "py.iplot([go.Pie(labels=df_7.LAW_CAT_CD, values=df_7.num_crimes)], filename='Most Common Crimes by LAW_CAT_CD')"
   ]
  },
  {
   "cell_type": "code",
   "execution_count": 84,
   "metadata": {
    "collapsed": true,
    "deletable": true,
    "editable": true
   },
   "outputs": [],
   "source": [
    "df_8= pd.read_sql_query('SELECT JURIS_DESC,COUNT(*) as `num_crimes`'\n",
    "                       'FROM data '\n",
    "                       'GROUP BY JURIS_DESC '\n",
    "                       'ORDER BY -num_crimes ', crime_data)"
   ]
  },
  {
   "cell_type": "code",
   "execution_count": 85,
   "metadata": {
    "collapsed": false,
    "deletable": true,
    "editable": true
   },
   "outputs": [
    {
     "data": {
      "text/html": [
       "<iframe id=\"igraph\" scrolling=\"no\" style=\"border:none;\" seamless=\"seamless\" src=\"https://plot.ly/~YuweiTu/18.embed\" height=\"525px\" width=\"100%\"></iframe>"
      ],
      "text/plain": [
       "<plotly.tools.PlotlyDisplay object>"
      ]
     },
     "execution_count": 85,
     "metadata": {},
     "output_type": "execute_result"
    }
   ],
   "source": [
    "py.iplot([Bar(x=df_8.JURIS_DESC, y=df_8.num_crimes)], filename='Most Common Crimes by JURIS_DESC')"
   ]
  },
  {
   "cell_type": "code",
   "execution_count": null,
   "metadata": {
    "collapsed": true,
    "deletable": true,
    "editable": true
   },
   "outputs": [],
   "source": []
  }
 ],
 "metadata": {
  "kernelspec": {
   "display_name": "Python [conda env:py35]",
   "language": "python",
   "name": "conda-env-py35-py"
  },
  "language_info": {
   "codemirror_mode": {
    "name": "ipython",
    "version": 3
   },
   "file_extension": ".py",
   "mimetype": "text/x-python",
   "name": "python",
   "nbconvert_exporter": "python",
   "pygments_lexer": "ipython3",
   "version": "3.5.2"
  }
 },
 "nbformat": 4,
 "nbformat_minor": 2
}
